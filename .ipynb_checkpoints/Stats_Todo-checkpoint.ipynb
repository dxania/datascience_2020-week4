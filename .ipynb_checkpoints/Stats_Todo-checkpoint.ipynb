{
 "cells": [
  {
   "cell_type": "markdown",
   "metadata": {},
   "source": [
    "# Guided Project: Mobile App for Lottery Addiction\n",
    "In this project, we are going to contribute to the development of a mobile app by writing a couple of functions that are mostly focused on calculating probabilities. The app is aimed to both prevent and treat lottery addiction by helping people better estimate their chances of winning.\n",
    "\n",
    "The app idea comes from a medical institute which is specialized in treating gambling addictions. The institute already has a team of engineers that will build the app, but they need us to create the logical core of the app and calculate probabilities. For the first version of the app, they want us to focus on the 6/49 lottery and build functions that can answer users the following questions:\n",
    "\n",
    "* What is the probability of winning the big prize with a single ticket?\n",
    "* What is the probability of winning the big prize if we play 40 different tickets (or any other number)?\n",
    "* What is the probability of having at least five (or four, or three) winning numbers on a single ticket?\n",
    "\n",
    "The scenario we're following throughout this project is fictional — the main purpose is to practice applying probability and combinatorics (permutations and combinations) concepts in a setting that simulates a real-world scenario.\n",
    "\n",
    "Core Functions\n",
    "Below, we're going to write two functions that we'll be using frequently:\n",
    "\n",
    "* factorial() — a function that calculates factorials\n",
    "* combinations() — a function that calculates combinations\n",
    "\n",
    "To calculate factorials, this is the formula we need to use:\n",
    "\n",
    "` n! = n * (n - 1) * (n - 2) * ... *3 * 2 * 1 `\n",
    "\n",
    "In the 6/49 lottery, six numbers are drawn from a set of 49 numbers that range from 1 to 49. The drawing is done without replacement, which means once a number is drawn, it's not put back in the set.\n",
    "\n",
    "To find the number of combinations when we're sampling without replacement and taking only k objects from a group of n objects, we can use the formula:\n",
    "\n",
    "`_nC_k = C(n,k) = n! / k!(n-k)! `"
   ]
  },
  {
   "cell_type": "markdown",
   "metadata": {},
   "source": [
    "1. Write a function named `factorial()` which takes as input a number `n` and computes the factorial of that number `n`. "
   ]
  },
  {
   "cell_type": "code",
   "execution_count": null,
   "metadata": {},
   "outputs": [],
   "source": [
    "#TODO"
   ]
  },
  {
   "cell_type": "markdown",
   "metadata": {},
   "source": [
    "2. Write a function named `combinations()` which takes in two inputs (`n` and `k`) and outputs the number of combinations when we're taking only `k` objects from a group of `n` objects. "
   ]
  },
  {
   "cell_type": "code",
   "execution_count": null,
   "metadata": {},
   "outputs": [],
   "source": [
    "#TODO"
   ]
  },
  {
   "cell_type": "markdown",
   "metadata": {},
   "source": [
    "In the 6/49 lottery, six numbers are drawn from a set of 49 numbers that range from 1 to 49. A player wins the big prize if the six numbers on their tickets match all the six numbers drawn. If a player has a ticket with the numbers {13, 22, 24, 27, 42, 44}, he only wins the big prize if the numbers drawn are {13, 22, 24, 27, 42, 44}. If only one number differs, he doesn't win.\n",
    "\n",
    "For the first version of the app, we want players to be able to calculate the probability of winning the big prize with the various numbers they play on a single ticket (for each ticket a player chooses six numbers out of 49). So, we'll start by building a function that calculates the probability of winning the big prize for any given ticket.\n",
    "\n",
    "We discussed with the engineering team of the medical institute, and they told us we need to be aware of the following details when we write the function:\n",
    "\n",
    "* Inside the app, the user inputs six different numbers from 1 to 49.\n",
    "* Under the hood, the six numbers will come as a Python list, which will serve as the single input to our function.\n",
    "* The engineering team wants the function to print the probability value in a friendly way — in a way that people without any probability training are able to understand.\n",
    "\n",
    "Let's try to write this function!\n",
    "\n"
   ]
  },
  {
   "cell_type": "markdown",
   "metadata": {},
   "source": [
    "1. Write a function named one_ticket_probability(), which takes in a list of six unique numbers and prints the probability of winning in a way that's easy to understand.\n",
    "\n",
    "     * Start by calculating the total number of possible outcomes — this is total number of combinations for a six-number lottery ticket. There are 49 possible numbers, and six numbers are sampled without replacement. Use the combinations() function you wrote in the previous cell.\n",
    "     * The user inputs just one combination, which means the number of successful outcomes is 1.\n",
    "     * Use the number of successful outcomes and the total number of possible outcomes to calculate the probability for one ticket.\n",
    "     * The function should print the probability in a way that's easy to understand. It's up to you what you choose, but here are a few suggestions:\n",
    "        * Print the probability as a percentage.\n",
    "        * Use the str.format() method to make the printed message more personalized with respect to what the user inputs.\n",
    "\n",
    "2. Test your function using a few inputs."
   ]
  },
  {
   "cell_type": "code",
   "execution_count": 1,
   "metadata": {},
   "outputs": [],
   "source": [
    "#TODO"
   ]
  },
  {
   "cell_type": "markdown",
   "metadata": {},
   "source": [
    "For the first version of the app, however, users should also be able to compare their ticket against the historical lottery data in Canada and determine whether they would have ever won by now.\n",
    "\n",
    "Here, we'll focus on exploring the historical data coming from the Canada 6/49 lottery. The data set can be downloaded from Kaggle[https://www.kaggle.com/datascienceai/lottery-dataset].\n",
    "\n",
    "* Open the `649.csv` file and save it as a pandas DataFrame."
   ]
  },
  {
   "cell_type": "code",
   "execution_count": null,
   "metadata": {},
   "outputs": [],
   "source": [
    "#TODO"
   ]
  },
  {
   "cell_type": "markdown",
   "metadata": {},
   "source": [
    "* Print the number of rows and columns of this data set."
   ]
  },
  {
   "cell_type": "code",
   "execution_count": null,
   "metadata": {},
   "outputs": [],
   "source": [
    "#TODO"
   ]
  },
  {
   "cell_type": "markdown",
   "metadata": {},
   "source": [
    "* Print the first and the last three rows and try to get familiar with the data set."
   ]
  },
  {
   "cell_type": "code",
   "execution_count": null,
   "metadata": {},
   "outputs": [],
   "source": [
    "#TODO"
   ]
  },
  {
   "cell_type": "markdown",
   "metadata": {},
   "source": [
    "Here, we're going to write a function that will enable users to compare their ticket against the historical lottery data in Canada and determine whether they would have ever won by now.\n",
    "\n",
    "The engineering team told us that we need to be aware of the following details:\n",
    "\n",
    "* Inside the app, the user inputs six different numbers from 1 to 49.\n",
    "* Under the hood, the six numbers will come as a Python list and serve as an input to our function.\n",
    "* The engineering team wants us to write a function that prints:\n",
    "    * the number of times the combination selected occurred in the Canada data set; and\n",
    "    * the probability of winning the big prize in the next drawing with that combination.\n",
    "    \n",
    "We'll now start working on writing this function. Note there's more than one way to solve this problem, so take the instructions below as suggestions.\n",
    "\n"
   ]
  },
  {
   "cell_type": "markdown",
   "metadata": {},
   "source": [
    "1. Extract all the winning six numbers from the historical data set as Python sets (set is a data type in Python).\n",
    "\n",
    "    * Write a function named `extract_numbers()` that takes as input a row of the lottery dataframe and returns a set containing all the six winning numbers. For the first row, for instance, the function should return the set `{3, 41, 11, 12, 43, 14}`.\n",
    "    * Use `extract_numbers()` in combination with the `DataFrame.apply()` method to extract all the winning numbers."
   ]
  },
  {
   "cell_type": "code",
   "execution_count": null,
   "metadata": {},
   "outputs": [],
   "source": [
    "#TODO"
   ]
  },
  {
   "cell_type": "markdown",
   "metadata": {},
   "source": [
    "2. Write a function named `check_historical_occurence()` that takes in two inputs: a Python list containing the user numbers and a pandas Series containing sets with the winning numbers (this is the Series you'll extract using the `extract_numbers()` function).\n",
    "\n",
    "    * Convert the user numbers list as a set using the `set()` function.\n",
    "    * Compare the set against the pandas Series that contains the sets with the winning numbers to find the number of matches — a Series of Boolean values will be returned as a result of the comparison (the value will be `True` each time there'll be a match).\n",
    "    * Print information about the number of times the combination inputted by the user occurred in the past.\n",
    "    * Print information (in an easy-to-understand way) about the probability of winning the big prize in the next drawing with that combination.\n",
    "\n",
    "3. Test your function with a few inputs."
   ]
  },
  {
   "cell_type": "code",
   "execution_count": null,
   "metadata": {},
   "outputs": [],
   "source": [
    "#TODO"
   ]
  },
  {
   "cell_type": "markdown",
   "metadata": {},
   "source": [
    "So far, we wrote two functions:\n",
    "\n",
    "* `one_ticket_probability()` — calculates the probability of winning the big prize with a single ticket\n",
    "* `check_historical_occurrence()` — checks whether a certain combination has occurred in the Canada lottery data set\n",
    "Lottery addicts usually play more than one ticket on a single drawing, thinking that this might increase their chances of winning significantly. Our purpose is to help them better estimate their chances of winning — on this screen, we're going to write a function that will allow the users to calculate the chances of winning for any number of different tickets.\n",
    "\n",
    "We've talked with the engineering team and they gave us the following information:\n",
    "\n",
    "The user will input the number of different tickets they want to play (without inputting the specific combinations they intend to play).\n",
    "Our function will see an integer between 1 and 13,983,816 (the maximum number of different tickets).\n",
    "The function should print information about the probability of winning the big prize depending on the number of different tickets played.\n",
    "\n",
    "Let's now start writing this function."
   ]
  },
  {
   "cell_type": "markdown",
   "metadata": {},
   "source": [
    "1. Write a function named `multi_ticket_probability()` that prints the probability of winning the big prize depending on the number of different tickets played.\n",
    "\n",
    "    * Start by calculating the total number of possible outcomes — this is total number of combinations for a six-number lottery ticket. There are 49 total numbers, and six numbers are sampled without replacement. Use the `combinations()` function you wrote in earlier cells.\n",
    "    * The number of successful outcomes is given by the number of tickets the user intends to play.\n",
    "    * Use the number of successful outcomes and the total number of possible outcomes to calculate the probability for the number of tickets inputted.\n",
    "    * The function should print the probability in a way that's easy to understand. It's up to you what you choose, but here are a few suggestions:\n",
    "        * Print the probability as a percentage.\n",
    "        * Use the `str.format()` method to make the printed message more personalized with respect to what the user inputs.\n",
    "\n",
    "2. Test your function using the following inputs: `[1, 10, 100, 10000, 1000000, 6991908, 13983816]`."
   ]
  },
  {
   "cell_type": "code",
   "execution_count": null,
   "metadata": {},
   "outputs": [],
   "source": [
    "#TODO"
   ]
  },
  {
   "cell_type": "markdown",
   "metadata": {},
   "source": [
    "Let's write one more function to allow the users to calculate probabilities for two, three, four, or five winning numbers.\n",
    "\n",
    "For extra context, in most 6/49 lotteries there are smaller prizes if a player's ticket match two, three, four, or five of the six numbers drawn. As a consequence, the users might be interested in knowing the probability of having two, three, four, or five winning numbers.\n",
    "\n",
    "These are the engineering details we'll need to be aware of:\n",
    "\n",
    "* Inside the app, the user inputs:\n",
    "    * six different numbers from 1 to 49; and\n",
    "    * an integer between 2 and 5 that represents the number of winning numbers expected\n",
    "* Our function prints information about the probability of having the inputted number of winning numbers.\n",
    "\n",
    "To help you code this function, we'll guide you through calculating the probability for having exactly five winning numbers. First, we need to differentiate between these two probability questions:\n",
    "* What is the probability of having exactly five winning numbers?\n",
    "* What is the probability of having at least five winning numbers?\n",
    "\n",
    "For our purposes here, we want to answer the first question.\n",
    "\n",
    "For the sake of example, let's say a player chose these six numbers on a ticket: `(1, 2, 3, 4 ,5 ,6)`. Out of these six numbers, we can form six five-number combinations:\n",
    "\n",
    "* (1, 2, 3, 4, 5)\n",
    "* (1, 2, 3, 4, 6)\n",
    "* (1, 2, 3, 5, 6)\n",
    "* (1, 2, 4, 5, 6)\n",
    "* (1, 3, 4, 5, 6)\n",
    "* (2, 3, 4, 5, 6)\n",
    "\n",
    "We can also find the total number of five-number combinations by calculating (\"6 choose 5\"):\n",
    "\n",
    "`_6C_5 = C(6,5) = 6!/ 5!(6-5)! = 6 `\n",
    "\n",
    "For each one of the six five-number combinations above, there are 44 possible successful outcomes in a lottery drawing. For the combination `(1, 2, 3, 4, 5)`, for instance, there are 44 lottery outcomes that would return a prize:\n",
    "\n",
    "* (1, 2, 3, 4, 5, 6)\n",
    "* (1, 2, 3, 4, 5, 7)\n",
    "* ...\n",
    "* (1, 2, 3, 4, 5, 30)\n",
    "* (1, 2, 3, 4, 5, 31)\n",
    "* ...\n",
    "* (1, 2, 3, 4, 5, 49)\n",
    "\n",
    "However, we need to leave out the outcome `(1, 2, 3, 4, 5, 6)` because we're only interested in outcomes that match exactly five numbers, not at least five numbers. This means that for each of our six five-number combinations we have 43 possible successful outcomes, not 44.\n",
    "\n",
    "Since there are six five-number combinations and each combination corresponds to 43 successful outcomes, we need to multiply 6 by 43 to find the total number of successful outcomes:\n",
    "\n",
    "`6 * 43 = 258`\n",
    "\n",
    "Since there are 258 successful outcomes and there are 13,983,816 total possible outcomes (the result of ), the probability of having exactly five winning numbers for a single lottery ticket is:\n",
    "\n",
    "`P(5-winning numbers) = 258 / C(49,6) = 0.00001845`\n",
    "\n",
    "Now let's try to code the function. To calculate the probabilities, we tell the engineering team that the specific combination on the ticket is irrelevant behind the scenes, and we only need the integer between 2 and 5 representing the number of winning numbers expected."
   ]
  },
  {
   "cell_type": "markdown",
   "metadata": {},
   "source": [
    "1. Write a function named `probability_less_6()` which takes in an integer between `2` and `5` and prints information about the chances of winning depending on the value of that integer.\n",
    "\n",
    "    * First, calculate the number of successful outcomes given the value of the input. We already covered how to calculate this when the input is `5` — when the input is lower, we need to take the same approach (but be careful, the number of combinations will vary). \n",
    "    * Second, calculate the number of total possible outcomes.\n",
    "    * Calculate the probability using the number of successful outcomes and the number of total possible outcomes.\n",
    "    * Display the probability value in a way that will be easy to understand for the user.\n",
    "\n",
    "2. Test your function on all possible inputs: `2`, `3`, `4`, and `5`."
   ]
  },
  {
   "cell_type": "code",
   "execution_count": null,
   "metadata": {},
   "outputs": [],
   "source": [
    "#TODO"
   ]
  },
  {
   "cell_type": "markdown",
   "metadata": {},
   "source": [
    "That was all for the guided part of the project! We managed to write four main functions for our app:\n",
    "\n",
    "* `one_ticket_probability()` — calculates the probability of winning the big prize with a single ticket\n",
    "* `check_historical_occurrence()` — checks whether a certain combination has occurred in the Canada lottery data set\n",
    "* `multi_ticket_probability()` — calculates the probability for any number of of tickets between 1 and 13,983,816\n",
    "* `probability_less_6()` — calculates the probability of having two, three, four or five winning numbers\n",
    "\n",
    "Possible features for a second version of the app include:\n",
    "\n",
    "* Making the outputs even easier to understand by adding fun analogies (for example, we can find probabilities for strange events and compare with the chances of winning in lottery; for instance, we can output something along the lines \"You are 100 times more likely to be the victim of a shark attack than winning the lottery\").\n",
    "* Combining the `one_ticket_probability()` and `check_historical_occurrence()` to output information on probability and historical occurrence at the same time.\n",
    "* Creating a function similar to `probability_less_6()` which calculates the probability of having at least two, three, four or five winning numbers. Hint: the number of successful outcomes for having at least four winning numbers is the sum of these three numbers:\n",
    "    * The number of successful outcomes for having four winning numbers exactly\n",
    "    * The number of successful outcomes for having five winning numbers exactly\n",
    "    * The number of successful outcomes for having six winning numbers exactly\n",
    "    \n",
    "When you finish your project, try to make it portfolio-ready using this style guide for data science projects[https://www.dataquest.io/blog/data-science-project-style-guide/].\n",
    "\n"
   ]
  },
  {
   "cell_type": "code",
   "execution_count": null,
   "metadata": {},
   "outputs": [],
   "source": [
    "#Congratulations!!!"
   ]
  }
 ],
 "metadata": {
  "kernelspec": {
   "display_name": "Python 3",
   "language": "python",
   "name": "python3"
  },
  "language_info": {
   "codemirror_mode": {
    "name": "ipython",
    "version": 3
   },
   "file_extension": ".py",
   "mimetype": "text/x-python",
   "name": "python",
   "nbconvert_exporter": "python",
   "pygments_lexer": "ipython3",
   "version": "3.8.3"
  }
 },
 "nbformat": 4,
 "nbformat_minor": 2
}
